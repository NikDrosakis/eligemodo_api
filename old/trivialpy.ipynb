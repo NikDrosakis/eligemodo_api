{
 "metadata": {
  "kernelspec": {
   "language": "python",
   "display_name": "Python 3",
   "name": "python3"
  },
  "language_info": {
   "pygments_lexer": "ipython3",
   "nbconvert_exporter": "python",
   "version": "3.6.4",
   "file_extension": ".py",
   "codemirror_mode": {
    "name": "ipython",
    "version": 3
   },
   "name": "python",
   "mimetype": "text/x-python"
  },
  "kaggle": {
   "accelerator": "none",
   "dataSources": [
    {
     "sourceId": 273211,
     "sourceType": "datasetVersion",
     "datasetId": 114457
    }
   ],
   "dockerImageVersionId": 30235,
   "isInternetEnabled": false,
   "language": "python",
   "sourceType": "notebook",
   "isGpuEnabled": false
  }
 },
 "nbformat_minor": 4,
 "nbformat": 4,
 "cells": [
  {
   "cell_type": "code",
   "source": [
    "# This Python 3 environment comes with many helpful analytics libraries installed\n",
    "# It is defined by the kaggle/python Docker image: https://github.com/kaggle/docker-python\n",
    "# For example, here's several helpful packages to load\n",
    "\n",
    "import numpy as np # linear algebra\n",
    "import pandas as pd # data processing, CSV file I/O (e.g. pd.read_csv)\n",
    "\n",
    "# Input data files are available in the read-only \"../input/\" directory\n",
    "# For example, running this (by clicking run or pressing Shift+Enter) will list all files under the input directory\n",
    "\n",
    "import os\n",
    "import random\n",
    "for dirname, _, filenames in os.walk('/kaggle/input'):\n",
    "    for filename in filenames:\n",
    "        print(os.path.join(dirname, filename))\n",
    "\n",
    "# You can write up to 20GB to the current directory (/kaggle/working/) that gets preserved as output when you create a version using \"Save & Run All\" \n",
    "# You can also write temporary files to /kaggle/temp/, but they won't be saved outside of the current session"
   ],
   "metadata": {
    "_uuid": "8f2839f25d086af736a60e9eeb907d3b93b6e0e5",
    "_cell_guid": "b1076dfc-b9ad-4769-8c92-a6c4dae69d19",
    "execution": {
     "iopub.status.busy": "2022-08-26T20:10:37.568200Z",
     "iopub.status.idle": "2022-08-26T20:10:37.568580Z",
     "shell.execute_reply.started": "2022-08-26T20:10:37.568404Z",
     "shell.execute_reply": "2022-08-26T20:10:37.568420Z"
    },
    "trusted": true,
    "is_executing": true
   },
   "execution_count": null,
   "outputs": []
  },
  {
   "cell_type": "code",
   "source": [
    "filename='/kaggle/input/world-capitals-gps/concap.csv'\n",
    "concap= pd.read_csv(filename)\n",
    "n= len(concap.index)\n",
    "df = pd.read_csv(filename).to_dict()"
   ],
   "metadata": {
    "execution": {
     "iopub.status.busy": "2022-08-26T19:57:14.641788Z",
     "iopub.execute_input": "2022-08-26T19:57:14.642342Z",
     "iopub.status.idle": "2022-08-26T19:57:14.655538Z",
     "shell.execute_reply.started": "2022-08-26T19:57:14.642316Z",
     "shell.execute_reply": "2022-08-26T19:57:14.654350Z"
    },
    "trusted": true
   },
   "execution_count": null,
   "outputs": []
  },
  {
   "cell_type": "code",
   "source": [
    "def trivial():   \n",
    "    chosen=random.randint(0, n-1)\n",
    "    chosenCountry=df['CountryName'][chosen]\n",
    "    #print(df['CapitalName'][chosen])\n",
    "    #give three more choices\n",
    "    print(\"Which is the capital of: \"+chosenCountry+\"?\")\n",
    "    #create a dict without chosen adding chosen\n",
    "    others=list(range(0, n-1))\n",
    "    others.remove(chosen)\n",
    "    otherChoices=random.sample(others, 3)\n",
    "    otherChoices.append(chosen)\n",
    "    random.shuffle(otherChoices)\n",
    "    #enumerate\n",
    "    my_dict = dict()\n",
    "    for index,value in enumerate(otherChoices):\n",
    "        my_dict[index+1] = value\n",
    "    #print(my_dict)\n",
    "    #shuffle whole list \n",
    "    for c in my_dict:\n",
    "        print(str(c)+\":\"+df['CapitalName'][my_dict[c]])    \n",
    "    chose = input()\n",
    "    score['total'] +=1\n",
    "    #ελέγχει αν το input είναι σωστό\n",
    "    if str(my_dict[int(chose)])==str(chosen):\n",
    "        score['correct'] +=1\n",
    "        print(\"CORRECT\")        \n",
    "    else:\n",
    "        score['mistake'] +=1\n",
    "        print(\"MISTAKE\")\n",
    "    print(score)\n",
    "    return score \n",
    "    "
   ],
   "metadata": {
    "execution": {
     "iopub.status.busy": "2022-08-26T19:57:14.712744Z",
     "iopub.execute_input": "2022-08-26T19:57:14.714365Z",
     "iopub.status.idle": "2022-08-26T19:57:14.722592Z",
     "shell.execute_reply.started": "2022-08-26T19:57:14.714285Z",
     "shell.execute_reply": "2022-08-26T19:57:14.721372Z"
    },
    "trusted": true,
    "is_executing": true
   },
   "execution_count": null,
   "outputs": []
  },
  {
   "cell_type": "code",
   "source": [
    "# Variable to keep the main loop running\n",
    "running = True        \n",
    "score={'correct':0,'mistake':0,'total':0}        \n",
    "while running:\n",
    "    score=trivial()\n",
    "    rate=(score['correct']/score['total'])*100\n",
    "    print(\"Score: \"+str(rate)+\"%\") "
   ],
   "metadata": {
    "execution": {
     "iopub.status.busy": "2022-08-26T19:57:14.786371Z",
     "iopub.execute_input": "2022-08-26T19:57:14.787367Z",
     "iopub.status.idle": "2022-08-26T20:10:37.567143Z",
     "shell.execute_reply.started": "2022-08-26T19:57:14.787303Z",
     "shell.execute_reply": "2022-08-26T20:10:37.564354Z"
    },
    "trusted": true,
    "is_executing": true
   },
   "execution_count": null,
   "outputs": []
  },
  {
   "cell_type": "code",
   "execution_count": null,
   "outputs": [],
   "source": [],
   "metadata": {
    "collapsed": false,
    "is_executing": true
   }
  },
  {
   "cell_type": "code",
   "execution_count": null,
   "outputs": [],
   "source": [],
   "metadata": {
    "collapsed": false
   }
  }
 ]
}
